{
 "cells": [
  {
   "cell_type": "code",
   "execution_count": 18,
   "metadata": {
    "collapsed": false
   },
   "outputs": [
    {
     "name": "stdout",
     "output_type": "stream",
     "text": [
      "0.0\n"
     ]
    }
   ],
   "source": [
    "z = np.zeros((3, 4))\n",
    "print np.dot(z[1,0:3], z[0:3,2])"
   ]
  },
  {
   "cell_type": "code",
   "execution_count": null,
   "metadata": {
    "collapsed": true
   },
   "outputs": [],
   "source": [
    "# the number of words in document d that have topic allocation k\n",
    "def n_k(corpus, z, K):      \n",
    "    n_k= [[sum(np.equal(z ,k+1))] ]for k in range(K)\n",
    "    return n_k\n",
    "\n",
    "\n",
    "def m_k(corpus, Z,):\n",
    "    # for each word, the number of times of each topic \n",
    "    m_k[k]= [[sum(np.equal(z ,k+1))] ]for k in range(K)\n",
    "    return n_k\n",
    "\n",
    "# mk,v be the number of times topic k allocation variables generate term v\n"
   ]
  },
  {
   "cell_type": "code",
   "execution_count": null,
   "metadata": {
    "collapsed": true
   },
   "outputs": [],
   "source": [
    "import numpy as np\n",
    "import scipy as sp\n",
    "from scipy.special import gammaln\n",
    "\n",
    "N = len(corpus.corpus_tokens) # number of unique words\n",
    "D = corpus.N                  # number of documents\n",
    "K = 3                         # number of topics\n",
    "alpha = 1                     # hyperparameter 1\n",
    "eta = 1                       # hyperparameter 2\n",
    "\n",
    "S = 5                         # number of iterations\n",
    "burn_in = 2                   # burn in period\n",
    "\n",
    "\n",
    "Z = np.random.randint(K)  # Randomly allocate the topics list inside a list \n",
    "\n",
    "# beta = matrix # % of topic in a word (given a document)\n",
    "# theta = matrix col = topics # % of topic in a document \n",
    "\n",
    "\n",
    "\n",
    " \n",
    "for s in range(S):\n",
    "    for d in range(D): \n",
    "        \n",
    "        # Allocate\n",
    "        # 1. Comput probs\n",
    "        # 2. sample from a multinomial distribution N times for the topic allocation variables\n",
    "        \n",
    "        V = len(corpus.docs[d].tokens)\n",
    "        z = []\n",
    "        \n",
    "        for v in range(V):\n",
    "            all_prob = [[theta[d,k] * beta[k,v] / np.dot(theta[d,],beta[,v])] for k in (range(K)+1)]\n",
    "            z[v] = np.argmax( np.random.multinomial(1, all_prob, 1) )\n",
    "            \n",
    "        # Sample from a Dirichlet K times for the topic-specific term probabilities\n",
    "        n_k = n_k(corpus, z, K)\n",
    "        theta_cprobs = np.random.dirichlet([alpha]*K + n_dk, 1)\n",
    "        theta[d] = np.random.dirichlet(theta_cprobs, 1)\n",
    "        \n",
    "     \n",
    "    for v in range(N):\n",
    "        # Sample from a Dirichlet D times for the document-specific mixing probabilities. \n",
    "        # Draw βk independently for k = 1, . . . , K from Dirichlet(η).\n",
    "        beta_cprobs = np.random.dirichlet([eta]*D + m_k, ?)\n",
    "        beta_D = np.random.dirichlet(beta_cprobs, 1)\n",
    "        # Dirichlet K times for the topic-specific term probabilities\n",
    "        \n",
    "    \n",
    "    if s <= burn_in:\n",
    "        next\n",
    "    \n",
    "    # else, collect the samples. \n",
    "        \n",
    "    \n",
    "# Use collected samples to approximate joint distributions.\n"
   ]
  }
 ],
 "metadata": {
  "kernelspec": {
   "display_name": "Python 2",
   "language": "python",
   "name": "python2"
  },
  "language_info": {
   "codemirror_mode": {
    "name": "ipython",
    "version": 2
   },
   "file_extension": ".py",
   "mimetype": "text/x-python",
   "name": "python",
   "nbconvert_exporter": "python",
   "pygments_lexer": "ipython2",
   "version": "2.7.10"
  }
 },
 "nbformat": 4,
 "nbformat_minor": 0
}
