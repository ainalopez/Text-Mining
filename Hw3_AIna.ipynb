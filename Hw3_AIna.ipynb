{
 "cells": [
  {
   "cell_type": "code",
   "execution_count": 13,
   "metadata": {
    "collapsed": false
   },
   "outputs": [
    {
     "name": "stdout",
     "output_type": "stream",
     "text": [
      "[[ 0.  0.  0.  0.]\n",
      " [ 0.  0.  0.  0.]\n",
      " [ 0.  0.  0.  0.]]\n"
     ]
    }
   ],
   "source": [
    "z = np.zeros((3, 4))\n",
    "print z"
   ]
  },
  {
   "cell_type": "code",
   "execution_count": null,
   "metadata": {
    "collapsed": true
   },
   "outputs": [],
   "source": [
    "# the number of words in document d that have topic allocation k\n",
    "def n_dk(corpus, z, K):   \n",
    "    n_dk = np.zeros((corpus.N, K))\n",
    "    \n",
    "    for k in range(K):\n",
    "        for d in range(corpus.N):\n",
    "            n_dk[d,k]= sum(np.equal(z[d] ,k+1))\n",
    "\n",
    "    return n_dk\n",
    "\n",
    "\n",
    "# mk,v be the number of times topic k allocation variables generate term \n",
    "# def m_kv(corpus, , ):\n",
    "    # Blablabla\n",
    "    "
   ]
  },
  {
   "cell_type": "code",
   "execution_count": null,
   "metadata": {
    "collapsed": true
   },
   "outputs": [],
   "source": [
    "import numpy as np\n",
    "import scipy as sp\n",
    "from scipy.special import gammaln\n",
    "\n",
    "N = len(corpus.corpus_tokens) # number of unique words\n",
    "D = corpus.N                  # number of documents\n",
    "K = 3                         # number of topics\n",
    "alpha = 1                     # hyperparameter 1\n",
    "eta = 1                       # hyperparameter 2\n",
    "\n",
    "S = 5                         # number of iterations\n",
    "burn_in = 2                   # burn in period\n",
    "z = np.random.randint()       # Randomly allocate the topics list inside a list \n",
    "theta = \n",
    "beta = \n",
    "\n",
    "\n",
    " \n",
    "for s in range(S):\n",
    "    \n",
    "    n_dk = n_dk(corpus, z, K)\n",
    "    \n",
    "    for d in range(D): \n",
    "        # Sample:\n",
    "        # multinomial distribution N times for the topic allocation variables\n",
    "        np.random.multinomial(N,?)\n",
    "        \n",
    "        # Dirichlet D times for the document-specific mixing probabilities. \n",
    "        # Draw βk independently for k = 1, . . . , K from Dirichlet(η).\n",
    "        beta = np.random.dirichlet([]*D, ?)\n",
    "        # Dirichlet K times for the topic-specific term probabilities\n",
    "        \n",
    "        # Sample from a Dirichlet K times for the topic-specific term probabilities\n",
    "        # Conditional distribution of θd given zd\n",
    "        theta_d = np.random.dirichlet([alpha]*K + n_dk[d, ], 1)\n",
    "        \n",
    "    \n",
    "    \n",
    "    if s <= burn_in:\n",
    "        next\n",
    "    \n",
    "    # else, collect the samples. \n",
    "        \n",
    "    \n",
    "# Use collected samples to approximate joint distributions.\n"
   ]
  }
 ],
 "metadata": {
  "kernelspec": {
   "display_name": "Python 2",
   "language": "python",
   "name": "python2"
  },
  "language_info": {
   "codemirror_mode": {
    "name": "ipython",
    "version": 2
   },
   "file_extension": ".py",
   "mimetype": "text/x-python",
   "name": "python",
   "nbconvert_exporter": "python",
   "pygments_lexer": "ipython2",
   "version": "2.7.10"
  }
 },
 "nbformat": 4,
 "nbformat_minor": 0
}
