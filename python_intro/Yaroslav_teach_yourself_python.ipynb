{
 "cells": [
  {
   "cell_type": "markdown",
   "metadata": {},
   "source": [
    "## Week 0 HW2\n",
    "\n",
    "1. This assignment is an individual effort.\n",
    "2. Submission to be uploaded into your group repositories in the folder python_intro\n",
    "3. Deadline is 20th of April 5:00 PM.\n",
    "4. Please follow google's [python styleguide](https://google.github.io/styleguide/pyguide.html) for your code. Pay attention to the guidelines for naming convention, comments and main.\n",
    "5. Code will be checked for plagiarism. Compelling signs of a duplicated effort will lead to a rejection of submission and will attract a 100\\% grade penalty.\n"
   ]
  },
  {
   "cell_type": "markdown",
   "metadata": {},
   "source": [
    "### 1\n",
    "Please load the file provided to you by email. Use _json_ module to read it as a list. "
   ]
  },
  {
   "cell_type": "code",
   "execution_count": 40,
   "metadata": {
    "collapsed": false
   },
   "outputs": [],
   "source": [
    "# 1 use open a connection to the file\n",
    "# 2 read contents of the file\n",
    "# 3 use the json module to read the string as a list\n",
    "#(replace None with relevant code)\n",
    "import json\n",
    "import re \n",
    "\n",
    "file_handle = open(\"1847_Polk_yaroslav.txt\")\n",
    "file_content = file_handle.read()\n",
    "file_handle.close()\n",
    "speech = json.loads(file_content)"
   ]
  },
  {
   "cell_type": "markdown",
   "metadata": {},
   "source": [
    "Notice that type(speech) is list. Please take a moment to go through the python list documentation and check out the various ways to manipulate lists.  "
   ]
  },
  {
   "cell_type": "markdown",
   "metadata": {},
   "source": [
    "###2\n",
    "The first element of the list is the year of speech, the second element is the president who gave it, while the third is the transcript of the same. \n",
    "\n",
    "1. Inspect the transcript. Note the commonly used non-alphanumerical characters. Use an appropriate method of strings to get rid of them.\n",
    "2. Use an appropriate string method to split the string of the speech into a list of smaller list of words.\n",
    "3. Convert all words into lower case and return the list. Use a for loop. Then use a list comprehension to do the same.  "
   ]
  },
  {
   "cell_type": "code",
   "execution_count": 52,
   "metadata": {
    "collapsed": false
   },
   "outputs": [
    {
     "name": "stdout",
     "output_type": "stream",
     "text": [
      "<type 'set'>\n"
     ]
    }
   ],
   "source": [
    "#1 \n",
    "stripped_text = re.sub(r'\\W+', ' ', speech[2])\n",
    "\n",
    "#2\n",
    "word_list =set(stripped_text.split(' '))\n",
    "\n",
    "# the result is a set\n",
    "print type(word_list)\n",
    "\n",
    "#3 \n",
    "\n",
    "\"\"\"\n",
    "The following ways two ways of writing the for loop are equivalent\n",
    "square = []\n",
    "num_list = [1, 2, 3, 4]\n",
    "for num in num_list:\n",
    "    square.append(num**2)\n",
    "num_square = [num**2 for num in num_list]\n",
    "print square, num_square\n",
    "\"\"\"\n",
    "\n",
    "#For loop\n",
    "\n",
    "for word in word_list:\n",
    "    lower_words_loop.append(word.lower())\n",
    "#print lower_words_loop[1:10]\n",
    "# the first is element is empty\n",
    "\n",
    "#List comprehension\n",
    "lower_words = [word.lower() for word in word_list]\n",
    "#print lower_words[1:10]\n"
   ]
  },
  {
   "cell_type": "markdown",
   "metadata": {},
   "source": [
    "### 3\n",
    "Create a function _preprocess_ that takes as arguments _text_ and _non_alphanum_, a string of non-alphanumeric characters that you want get rid of. Perform all operations specfied in the previous question. However, converting to lowercase should be an optional argument. The data structure returned should be a list of words."
   ]
  },
  {
   "cell_type": "code",
   "execution_count": 3,
   "metadata": {
    "collapsed": false
   },
   "outputs": [],
   "source": [
    "def preprocess(text, alphanum_chars, lower = True):\n",
    "    stripped_text = re.sub(alphanum_chars, ' ', text)\n",
    "    word_list =set(stripped_text.split(' '))\n",
    "    \n",
    "    if lower==True:\n",
    "        lower_words = [word.lower() for word in word_list]\n",
    "        return lower_words\n",
    "    else:\n",
    "        return word_list\n",
    "    \n",
    "#alpha=\"r'\\+'\"\n",
    "#x=preprocess(speech[2], alpha, lower = True)\n"
   ]
  },
  {
   "cell_type": "markdown",
   "metadata": {},
   "source": [
    "### 4\n",
    "Create a function _word_freq_ that takes as input a word list that has been preprocessed and returns a dictionary of the word frequency. Which is the fourth most frequent word of your word list? (Provide code that computes it)"
   ]
  },
  {
   "cell_type": "code",
   "execution_count": 4,
   "metadata": {
    "collapsed": false
   },
   "outputs": [
    {
     "name": "stdout",
     "output_type": "stream",
     "text": [
      "The fourth most frequent word is: to\n"
     ]
    }
   ],
   "source": [
    "# Function\n",
    "def wordfreq(word_list):\n",
    "    speech =stripped_text.split(' ')\n",
    "    speech_lower =[word.lower() for word in speech]\n",
    "    x={i:speech_lower.count(i) for i in word_list}\n",
    "    return x\n",
    "\n",
    "# Fouth most frequent word\n",
    "freq=wordfreq(lower_words)\n",
    "fourth=sorted(freq, key=freq.get, reverse=True)[3]\n",
    "print(\"The fourth most frequent word is: \" + fourth)\n"
   ]
  },
  {
   "cell_type": "markdown",
   "metadata": {},
   "source": [
    "### 5\n",
    "Write a function that takes as input a word list and returns a dictionary of the frequencies of word lengths. Do not use the api collections for this assignment. But have a look at its [documentation](https://docs.python.org/2/library/collections.html). Its useful tool to have in your repository."
   ]
  },
  {
   "cell_type": "code",
   "execution_count": 159,
   "metadata": {
    "collapsed": false
   },
   "outputs": [
    {
     "data": {
      "text/plain": [
       "{0: 1,\n",
       " 1: 315,\n",
       " 2: 3323,\n",
       " 3: 3673,\n",
       " 4: 2245,\n",
       " 5: 1482,\n",
       " 6: 1469,\n",
       " 7: 1093,\n",
       " 8: 1015,\n",
       " 9: 792,\n",
       " 10: 535,\n",
       " 11: 308,\n",
       " 12: 195,\n",
       " 13: 82,\n",
       " 14: 31,\n",
       " 15: 9,\n",
       " 16: 1}"
      ]
     },
     "execution_count": 159,
     "metadata": {},
     "output_type": "execute_result"
    }
   ],
   "source": [
    "def wordfreq(word_list):\n",
    "    speech =stripped_text.split(' ')\n",
    "    speech_lower =[word.lower() for word in speech]\n",
    "    word_freq=[len(w) for w in word_list]\n",
    "    speech_lower_freq=[len(w) for w in speech_lower]\n",
    "    x={i:speech_lower_freq.count(i) for i in word_freq}\n",
    "    return x\n",
    "\n",
    "#wordfreq(word_list)"
   ]
  },
  {
   "cell_type": "markdown",
   "metadata": {},
   "source": [
    "### 6\n",
    "Load the file _sou_all.txt_ in ./data/pres_speech. Inspect its contents. Familiarise yourself with using regular expressions in python. You can use this [document](https://docs.python.org/2/howto/regex.html) as a starting point. Now use regular expressions to seperate the different speeches. Your function should accept the text and a regular expression as input and return a list of lists. Each element of the list should be a list with following structure:\n",
    "\n",
    "1. year\n",
    "2. president\n",
    "3. List of the transcript of the speech broken down into paragraphs.\n",
    "\n",
    "Save your result as json"
   ]
  },
  {
   "cell_type": "code",
   "execution_count": 199,
   "metadata": {
    "collapsed": false
   },
   "outputs": [],
   "source": [
    "import json\n",
    "import re \n",
    "\n",
    "file_handle = open(\"sou_all.txt\")\n",
    "text = file_handle.read()\n",
    "file_handle.close()\n",
    "\n",
    "\n",
    "def GetData(text, reg_exp):\n",
    "\n",
    "    speech=text.split(reg_exp)\n",
    "    del speech[0]\n",
    "    \n",
    "    # Years\n",
    "    \n",
    "    years=[line[1:5] for line in speech]\n",
    "\n",
    "\n",
    "    # President\n",
    "    \n",
    "    def GetPresident(myString):\n",
    "        return myString[myString.find(\"l_\")+2:myString.find(\"_*\")]\n",
    "\n",
    "    presidents=[GetPresident(myspeech) for myspeech in speech]\n",
    "\n",
    "\n",
    "\n",
    "    # Speech \n",
    "\n",
    "    def GetSpeech(myspeech):\n",
    "        x=myspeech.split(\"\\n\")[2:]\n",
    "        #x= filter(None, x)\n",
    "        x='\\n'.join(x)\n",
    "        x=x.split(\"\\n\")\n",
    "        x= filter(None, x)\n",
    "        return x\n",
    "\n",
    "    speech_all=[GetSpeech(myspeech) for myspeech in speech]\n",
    "\n",
    "\n",
    "\n",
    "    # Join everything\n",
    "\n",
    "    def createObject(num):\n",
    "        return [years[num], presidents[num], speech_all[num]]\n",
    "\n",
    "    data = [createObject(i) for i in range(len(speech))]\n",
    "    return data\n",
    "\n",
    "mydata=GetData(text, '**********')\n",
    "\n",
    "# generate json\n",
    "\n",
    "with open('data.json', 'w') as outfile:\n",
    "    json.dump(data, outfile)\n",
    "\n"
   ]
  }
 ],
 "metadata": {
  "kernelspec": {
   "display_name": "Python 2",
   "language": "python",
   "name": "python2"
  },
  "language_info": {
   "codemirror_mode": {
    "name": "ipython",
    "version": 2
   },
   "file_extension": ".py",
   "mimetype": "text/x-python",
   "name": "python",
   "nbconvert_exporter": "python",
   "pygments_lexer": "ipython2",
   "version": "2.7.11"
  }
 },
 "nbformat": 4,
 "nbformat_minor": 0
}
