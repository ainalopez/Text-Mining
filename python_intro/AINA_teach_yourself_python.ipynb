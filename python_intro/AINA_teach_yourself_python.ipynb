{
 "cells": [
  {
   "cell_type": "markdown",
   "metadata": {},
   "source": [
    "## Week 0 HW2\n",
    "\n",
    "1. This assignment is an individual effort.\n",
    "2. Submission to be uploaded into your group repositories in the folder python_intro\n",
    "3. Deadline is 20th of April 5:00 PM.\n",
    "4. Please follow google's [python styleguide](https://google.github.io/styleguide/pyguide.html) for your code. Pay attention to the guidelines for naming convention, comments and main.\n",
    "5. Code will be checked for plagiarism. Compelling signs of a duplicated effort will lead to a rejection of submission and will attract a 100\\% grade penalty.\n"
   ]
  },
  {
   "cell_type": "markdown",
   "metadata": {},
   "source": [
    "### 1\n",
    "Please load the file provided to you by email. Use _json_ module to read it as a list. "
   ]
  },
  {
   "cell_type": "code",
   "execution_count": 177,
   "metadata": {
    "collapsed": false
   },
   "outputs": [],
   "source": [
    "# 1 use open a connection to the file\n",
    "# 2 read contents of the file\n",
    "# 3 use the json module to read the string as a list\n",
    "#(replace None with relevant code)\n",
    "import json\n",
    "\n",
    "file_handle = open(\"/Users/ainalopez/Downloads/1911_Taft.txt\")\n",
    "file_content = file_handle.read()\n",
    "speech = json.loads(file_content)\n"
   ]
  },
  {
   "cell_type": "markdown",
   "metadata": {},
   "source": [
    "### 2\n",
    "The first element of the list is the year of speech, the second element is the president who gave it, while the third is the transcript of the same. \n",
    "\n",
    "1. Inspect the transcript. Note the commonly used non-alphanumerical characters. Use an appropriate method of strings to get rid of them.\n",
    "2. Use an appropriate string method to split the string of the speech into a list of smaller list of words.\n",
    "3. Convert all words into lower case and return the list. Use a for loop. Then use a list comprehension to do the same.  "
   ]
  },
  {
   "cell_type": "code",
   "execution_count": 72,
   "metadata": {
    "collapsed": false
   },
   "outputs": [
    {
     "data": {
      "text/plain": [
       "'\\nThe following ways two ways of writing the for loop are equivalent\\nsquare = []\\nnum_list = [1, 2, 3, 4]\\nfor num in num_list:\\n    square.append(num**2)\\nnum_square = [num**2 for num in num_list]\\nprint square, num_square\\n'"
      ]
     },
     "execution_count": 72,
     "metadata": {},
     "output_type": "execute_result"
    }
   ],
   "source": [
    "#1\n",
    "import re\n",
    "stripped_text = re.sub(\"[^0-9a-zA-Z]+\", \" \", speech[2])\n",
    "\n",
    "#2\n",
    "word_list = stripped_text.split()\n",
    "\n",
    "#3\n",
    "# With a loop\n",
    "lower_words = []\n",
    "for word in word_list:\n",
    "    lower_words.append(word.lower()) \n",
    "\n",
    "# With list comprehension\n",
    "lower_words = [word.lower() for word in word_list]\n",
    "\n",
    "#print lower_words\n",
    "   \n",
    "\n",
    "\"\"\"\n",
    "The following ways two ways of writing the for loop are equivalent\n",
    "square = []\n",
    "num_list = [1, 2, 3, 4]\n",
    "for num in num_list:\n",
    "    square.append(num**2)\n",
    "num_square = [num**2 for num in num_list]\n",
    "print square, num_square\n",
    "\"\"\"\n"
   ]
  },
  {
   "cell_type": "markdown",
   "metadata": {},
   "source": [
    "### 3\n",
    "Create a function _preprocess_ that takes as arguments _text_ and _non_alphanum_, a string of non-alphanumeric characters that you want get rid of. Perform all operations specfied in the previous question. However, converting to lowercase should be an optional argument. The data structure returned should be a list of words."
   ]
  },
  {
   "cell_type": "code",
   "execution_count": 67,
   "metadata": {
    "collapsed": false
   },
   "outputs": [],
   "source": [
    "def preprocess(text, non_alphanum, lower = True):\n",
    "    import re\n",
    "    \n",
    "    stripped_text = re.sub(\"[\"+alphanum_chars+\"]\", \"\", text)\n",
    "    word_list = stripped_text.split()\n",
    "    \n",
    "    if lower:\n",
    "        lower_words = [word.lower() for word in word_list]\n",
    "        return lower_words;\n",
    "    else: \n",
    "        return word_list;\n",
    "    "
   ]
  },
  {
   "cell_type": "markdown",
   "metadata": {},
   "source": [
    "### 4\n",
    "Create a function _word_freq_ that takes as input a word list that has been preprocessed and returns a dictionary of the word frequency. Which is the fourth most frequent word of your word list? (Provide code that computes it)"
   ]
  },
  {
   "cell_type": "code",
   "execution_count": 312,
   "metadata": {
    "collapsed": false
   },
   "outputs": [
    {
     "name": "stdout",
     "output_type": "stream",
     "text": [
      "to\n"
     ]
    }
   ],
   "source": [
    "def word_freq(word_list):\n",
    "    dictionary = {}\n",
    "    \n",
    "    for word in word_list:\n",
    "        dictionary[word] = dictionary.get(word,0) + 1\n",
    "        \n",
    "    return dictionary; \n",
    " \n",
    "    \n",
    "# The fourth most frequent word of my word list is \"to\".\n",
    "speech_dict = word_freq(lower_words)\n",
    "print sorted(speech_dict, key=speech_dict.get, reverse=True)[3]\n"
   ]
  },
  {
   "cell_type": "markdown",
   "metadata": {},
   "source": [
    "### 5\n",
    "Write a function that takes as input a word list and returns a dictionary of the frequencies of word lengths. Do not use the api collections for this assignment. But have a look at its [documentation](https://docs.python.org/2/library/collections.html). Its useful tool to have in your repository."
   ]
  },
  {
   "cell_type": "code",
   "execution_count": 311,
   "metadata": {
    "collapsed": false
   },
   "outputs": [],
   "source": [
    "def word_len_freq(word_list):\n",
    "    dictionary = {}\n",
    "    \n",
    "    for word in word_list:\n",
    "        dictionary[len(word)] = dictionary.get(len(word),0) + 1\n",
    "        \n",
    "    return dictionary; \n"
   ]
  },
  {
   "cell_type": "markdown",
   "metadata": {},
   "source": [
    "### 6\n",
    "Load the file _sou_all.txt_ in ./data/pres_speech. Inspect its contents. Familiarise yourself with using regular expressions in python. You can use this [document](https://docs.python.org/2/howto/regex.html) as a starting point. Now use regular expressions to seperate the different speeches. Your function should accept the text and a regular expression as input and return a list of lists. Each element of the list should be a list with following structure:\n",
    "\n",
    "1. year\n",
    "2. president\n",
    "3. List of the transcript of the speech broken down into paragraphs.\n",
    "\n",
    "Save your result as json"
   ]
  },
  {
   "cell_type": "code",
   "execution_count": 1,
   "metadata": {
    "collapsed": false
   },
   "outputs": [],
   "source": [
    "import json \n",
    "\n",
    "def text_to_list(text, reg_expression):\n",
    "    import re\n",
    "    speech_list = []\n",
    "    \n",
    "    iterator = re.finditer(reg_expression, text)\n",
    "    \n",
    "    for match in iterator:\n",
    "        f = re.search(reg_exp, file_content2[match.start():match.end()])\n",
    "        title = re.sub(\"[^0-9a-zA-Z\\.]+\", \" \", f.group(1)).split()\n",
    "  \n",
    "        transcript_list = re.split('\\n*', f.group(0))\n",
    "        \n",
    "        obj = [title[0], \" \".join(title[2:]),transcript_list[1:-1]]\n",
    "        speech_list.append(obj)\n",
    "        \n",
    "    return speech_list\n",
    "\n",
    "\n",
    "file_handle2 = open(\"/Users/ainalopez/Downloads/text_mining-master/data/pres_speech/sou_all.txt\")\n",
    "file_content2 = file_handle2.read()\n",
    "\n",
    "reg_exp = r'\\*\\*\\*\\*\\*\\*\\*\\*\\_(.+)\\_\\*\\*\\*\\*\\*\\n+(.+\\n\\n)+'\n",
    "slist = text_to_list(file_content2, reg_exp)\n",
    "\n",
    "out_file = open(\"AINA_ex6.json\",\"w\")\n",
    "json_str = json.dumps(slist, indent = 4)\n",
    "out_file.write(json_str)\n",
    "out_file.close()\n"
   ]
  }
 ],
 "metadata": {
  "kernelspec": {
   "display_name": "Python 2",
   "language": "python",
   "name": "python2"
  },
  "language_info": {
   "codemirror_mode": {
    "name": "ipython",
    "version": 2
   },
   "file_extension": ".py",
   "mimetype": "text/x-python",
   "name": "python",
   "nbconvert_exporter": "python",
   "pygments_lexer": "ipython2",
   "version": "2.7.10"
  }
 },
 "nbformat": 4,
 "nbformat_minor": 0
}
